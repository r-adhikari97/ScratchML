{
 "cells": [
  {
   "cell_type": "markdown",
   "id": "834b4a82-20c3-42ce-b56b-888765fd76a4",
   "metadata": {},
   "source": [
    "# ScratchML : Decision Trees\n",
    "- Splits data based on parameters\n",
    "- ### Categories\n",
    "    - Split Feature\n",
    "    - Split Point\n",
    "    - When to stop splitting\n",
    "- ### Training \n",
    "    - Calculate Info gain from each possible split\n",
    "    - Divide Dataset with that feature and values that gives higher Info Gain\n",
    "    - Divide tree and do the same for all created branches\n",
    "    - Repeat until stopping critera\n",
    "- ### Testing\n",
    "    - Follow Tree till Leaf Node\n",
    "    - Return Most common class label --> If pure : Return class else : Majority vote"
   ]
  },
  {
   "cell_type": "markdown",
   "id": "7a880215-032e-4842-99cc-9c04a32d918a",
   "metadata": {},
   "source": [
    "### Information Gain\n",
    "- **IG = Entropy(parent) - [Weighted Average] - Entropy(children)**\n",
    "- **Entropy : Mixxed params** ->  Sum(p(X) * log2(p(X)) ::: p(x) = #x / n\n",
    "- **Stopping Critera** : Maxmium depth, minimum number of samples, min impurity decrease"
   ]
  },
  {
   "cell_type": "code",
   "execution_count": 4,
   "id": "09d82828-aa8c-4e61-8c97-183d68c617fd",
   "metadata": {},
   "outputs": [],
   "source": [
    "# Importing math class\n",
    "import numpy as np\n",
    "from collections import Counter"
   ]
  },
  {
   "cell_type": "code",
   "execution_count": 2,
   "id": "82bf0fec-3c2d-49d7-aa0d-23c22345a089",
   "metadata": {},
   "outputs": [],
   "source": [
    "# Class Node\n",
    "class Node:\n",
    "    # setting Up constrcutor\n",
    "    def __init__(self, feature=None, threshold=None, left=None, right=None,*, value=None):\n",
    "        self.feature = feature\n",
    "        self.threshold = threshold\n",
    "        self.left = left\n",
    "        self.right = right\n",
    "        self.value = value\n",
    "\n",
    "    def is_leaf_node(self):\n",
    "        return self.value is not None"
   ]
  },
  {
   "cell_type": "code",
   "execution_count": 32,
   "id": "28130d70-a80c-4e51-8158-c841ef844083",
   "metadata": {},
   "outputs": [],
   "source": [
    "# Class Decistion Tree\n",
    "class DecisionTree:\n",
    "\n",
    "    # Setting up constructor\n",
    "    def __init__(self, min_sample_split=2, max_depth=5, n_features=None):\n",
    "        self.min_sample_split = min_sample_split\n",
    "        self.max_depth = max_depth\n",
    "        self.n_features = n_features\n",
    "        self.root = None\n",
    "\n",
    "    def fit(self, X, y):\n",
    "        # Extract Root of tree\n",
    "        self.n_features = X.shape[1] if not self.n_features else min(X.shape[1], self.n_features)\n",
    "        self.root = self._grow_tree(X,y)\n",
    "\n",
    "    def _grow_tree(self, X, y, depth=0):\n",
    "        n_samples, n_feats = X.shape\n",
    "        n_labels = len(np.unique(y))\n",
    "        \n",
    "        # Checking Stopping Criteria\n",
    "        if (depth >= self.max_depth) or (n_labels == 1) or (n_samples < self.min_sample_split):\n",
    "            leaf_value = self._most_common_label(y)\n",
    "            return Node(value = leaf_value)\n",
    "\n",
    "        feat_idxs = np.random.choice(n_feats, self.n_features, replace=False)\n",
    "        \n",
    "\n",
    "        # Find best split \n",
    "        best_feature, best_thresh = self._best_split(X, y, feat_idxs)\n",
    "\n",
    "        # Create Child Nodes\n",
    "        left_idxs , right_idxs = self._split(X[:, best_feature], best_thresh)\n",
    "        left = self._grow_tree(X[left_idxs, :], y[left_idxs], depth=+1)\n",
    "        right = self._grow_tree(X[right_idxs, :], y[right_idxs], depth=+1)\n",
    "\n",
    "        # Returning Node\n",
    "        return Node(best_feature, best_thresh, left, right)\n",
    "\n",
    "    \n",
    "    def _best_split(self, X, y, feat_idxs):\n",
    "        best_gain = -1\n",
    "        split_idx, split_thresh = None, None\n",
    "\n",
    "        # Travering all opts\n",
    "        for feat_idx in feat_idxs:\n",
    "            X_column = X[:, feat_idx]\n",
    "            thresholds = np.unique(X_column)\n",
    "\n",
    "            for thresh in thresholds:\n",
    "                # Calulcate IG\n",
    "                gain = self._information_gain(y, X_column, thresh)\n",
    "\n",
    "                if gain > best_gain:\n",
    "                    best_gain = gain\n",
    "                    split_idx = feat_idx\n",
    "                    split_thresh = thresh\n",
    "\n",
    "        return split_idx, split_thresh\n",
    "            \n",
    "    def predict(self, X_test):\n",
    "        return np.array([self._traverse_tree(x, self.root) for x in X_test])\n",
    "\n",
    "\n",
    "    # HELPER FUNCTIONS\n",
    "    def _information_gain(self, y, X_column, threshold):\n",
    "        # parent entropy\n",
    "        parent_ent = self._entropy(y)\n",
    "        \n",
    "        # create children\n",
    "        left_idxs , right_idxs = self._split(X_column, threshold)\n",
    "\n",
    "        if len(left_idxs) == 0  or len(left_idxs) == 0 :\n",
    "            return 0\n",
    "\n",
    "        # calculate weighter avg entropy of children\n",
    "        n = len(y)\n",
    "        n_l , n_r = len(left_idxs), len(right_idxs)\n",
    "        e_l , e_r = self._entropy(y[left_idxs]), self._entropy(y[right_idxs])\n",
    "        child_ent = (n_l/n) * e_l + (n_r/n) * e_r\n",
    "        \n",
    "        # calculate the IG\n",
    "        information_gain = parent_ent - child_ent\n",
    "        return information_gain\n",
    "\n",
    "\n",
    "    def _split(self, X_column, split_thresh):\n",
    "        left_idxs = np.argwhere(X_column <= split_thresh).flatten()\n",
    "        right_idxs = np.argwhere(X_column > split_thresh).flatten()\n",
    "        return left_idxs, right_idxs\n",
    "\n",
    "    \n",
    "    def _entropy(self, y):\n",
    "        hist = np.bincount(y)\n",
    "        proba = hist / len(y)\n",
    "        return -np.sum([p*np.log(p) for p in proba if p>0])\n",
    "            \n",
    "        \n",
    "    def _most_common_label(self, y):\n",
    "        counter = Counter(y)\n",
    "        value = counter.most_common(1)[0][0]\n",
    "        return value\n",
    "\n",
    "    \n",
    "    def _traverse_tree(self, X, node):\n",
    "        if node.is_leaf_node():\n",
    "            return node.value\n",
    "\n",
    "        if X[node.feature] <= node.threshold:\n",
    "            return self._traverse_tree(X, node.left)\n",
    "        return self._traverse_tree(X, node.right)"
   ]
  },
  {
   "cell_type": "markdown",
   "id": "ac8d1691-2888-4b77-9399-9499af0524c8",
   "metadata": {},
   "source": [
    "## Setting Up Accuracy Model"
   ]
  },
  {
   "cell_type": "code",
   "execution_count": 34,
   "id": "f8f028c9-44c5-466a-ab12-a9283493e6a5",
   "metadata": {},
   "outputs": [],
   "source": [
    "def accuracy (preds, y_test):\n",
    "    return np.sum(preds == y_test) / len(y_test)"
   ]
  },
  {
   "cell_type": "markdown",
   "id": "22df3222-bf21-41e1-bb87-edc6336bcfc5",
   "metadata": {},
   "source": [
    "## Setting up dataset"
   ]
  },
  {
   "cell_type": "code",
   "execution_count": 15,
   "id": "7f37bd68-46b2-4bc8-8b41-9f5520d60329",
   "metadata": {},
   "outputs": [],
   "source": [
    "from sklearn import datasets\n",
    "from sklearn.model_selection import train_test_split"
   ]
  },
  {
   "cell_type": "code",
   "execution_count": 16,
   "id": "23b88511-1d85-4e82-88ee-9162703bd078",
   "metadata": {},
   "outputs": [],
   "source": [
    "data = datasets.load_breast_cancer()\n",
    "X,y = data.data, data.target\n",
    "X_train, X_test, y_train, y_test = train_test_split(X, y, test_size=0.33, random_state=1234)"
   ]
  },
  {
   "cell_type": "markdown",
   "id": "4a5afe8b-e1cb-444b-8462-7673f04266a9",
   "metadata": {},
   "source": [
    "## Setting up Deicsion Tree Model"
   ]
  },
  {
   "cell_type": "code",
   "execution_count": 35,
   "id": "a42d29d4-216b-4bc4-a29d-07276af2fefe",
   "metadata": {},
   "outputs": [
    {
     "name": "stdout",
     "output_type": "stream",
     "text": [
      "Accuracy of model :0.9202127659574468\n"
     ]
    }
   ],
   "source": [
    "DT = DecisionTree()\n",
    "DT.fit(X_train, y_train)\n",
    "preds = DT.predict(X_test)\n",
    "print(f\"Accuracy of model :{accuracy(preds, y_test)}\")"
   ]
  },
  {
   "cell_type": "code",
   "execution_count": 41,
   "id": "bfa6c8c7-d472-4a83-a429-010f152098e7",
   "metadata": {},
   "outputs": [
    {
     "name": "stdout",
     "output_type": "stream",
     "text": [
      "Accuracy of model :0.925531914893617\n"
     ]
    }
   ],
   "source": [
    "# Varying Depth\n",
    "DT = DecisionTree(max_depth=2)\n",
    "DT.fit(X_train, y_train)\n",
    "preds = DT.predict(X_test)\n",
    "print(f\"Accuracy of model :{accuracy(preds, y_test)}\")"
   ]
  },
  {
   "cell_type": "code",
   "execution_count": null,
   "id": "077d1666-5a0b-4cef-aafd-3765c6de1e5e",
   "metadata": {},
   "outputs": [],
   "source": []
  }
 ],
 "metadata": {
  "kernelspec": {
   "display_name": "Python 3 (ipykernel)",
   "language": "python",
   "name": "python3"
  },
  "language_info": {
   "codemirror_mode": {
    "name": "ipython",
    "version": 3
   },
   "file_extension": ".py",
   "mimetype": "text/x-python",
   "name": "python",
   "nbconvert_exporter": "python",
   "pygments_lexer": "ipython3",
   "version": "3.11.7"
  }
 },
 "nbformat": 4,
 "nbformat_minor": 5
}
