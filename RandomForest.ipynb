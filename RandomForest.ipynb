{
 "cells": [
  {
   "cell_type": "markdown",
   "id": "52d9d767-f7b1-4cf1-9307-b386d6e72f0c",
   "metadata": {},
   "source": [
    "# Scratch ML : Random Forest Algorithm\n",
    "**Training**\n",
    "- Extract a subset of whole dataset\n",
    "- Create a decision Tree\n",
    "- Repeat as many times are number of trees\n",
    "\n",
    "**Testing**\n",
    "- Get Predictions from each tree\n",
    "- Classfication : Majority vaote is considered\n",
    "- Get the mean of the predictions"
   ]
  },
  {
   "cell_type": "code",
   "execution_count": 2,
   "id": "291a04b3-e790-4113-8c33-be28343c7122",
   "metadata": {},
   "outputs": [],
   "source": [
    "# Importing math class\n",
    "import numpy as np\n",
    "from collections import Counter"
   ]
  },
  {
   "cell_type": "code",
   "execution_count": 3,
   "id": "312cda79-6d60-4df3-bda3-73ccc4950849",
   "metadata": {},
   "outputs": [],
   "source": [
    "# Class Node\n",
    "class Node:\n",
    "    # setting Up constrcutor\n",
    "    def __init__(self, feature=None, threshold=None, left=None, right=None,*, value=None):\n",
    "        self.feature = feature\n",
    "        self.threshold = threshold\n",
    "        self.left = left\n",
    "        self.right = right\n",
    "        self.value = value\n",
    "\n",
    "    def is_leaf_node(self):\n",
    "        return self.value is not None"
   ]
  },
  {
   "cell_type": "code",
   "execution_count": 4,
   "id": "4fd129dc-8258-464e-a20d-b23f698b7e4e",
   "metadata": {},
   "outputs": [],
   "source": [
    "# Class Decistion Tree\n",
    "class DecisionTree:\n",
    "\n",
    "    # Setting up constructor\n",
    "    def __init__(self, min_sample_split=2, max_depth=5, n_features=None):\n",
    "        self.min_sample_split = min_sample_split\n",
    "        self.max_depth = max_depth\n",
    "        self.n_features = n_features\n",
    "        self.root = None\n",
    "\n",
    "    def fit(self, X, y):\n",
    "        # Extract Root of tree\n",
    "        self.n_features = X.shape[1] if not self.n_features else min(X.shape[1], self.n_features)\n",
    "        self.root = self._grow_tree(X,y)\n",
    "\n",
    "    def _grow_tree(self, X, y, depth=0):\n",
    "        n_samples, n_feats = X.shape\n",
    "        n_labels = len(np.unique(y))\n",
    "        \n",
    "        # Checking Stopping Criteria\n",
    "        if (depth >= self.max_depth) or (n_labels == 1) or (n_samples < self.min_sample_split):\n",
    "            leaf_value = self._most_common_label(y)\n",
    "            return Node(value = leaf_value)\n",
    "\n",
    "        feat_idxs = np.random.choice(n_feats, self.n_features, replace=False)\n",
    "        \n",
    "\n",
    "        # Find best split \n",
    "        best_feature, best_thresh = self._best_split(X, y, feat_idxs)\n",
    "\n",
    "        # Create Child Nodes\n",
    "        left_idxs , right_idxs = self._split(X[:, best_feature], best_thresh)\n",
    "        left = self._grow_tree(X[left_idxs, :], y[left_idxs], depth=+1)\n",
    "        right = self._grow_tree(X[right_idxs, :], y[right_idxs], depth=+1)\n",
    "\n",
    "        # Returning Node\n",
    "        return Node(best_feature, best_thresh, left, right)\n",
    "\n",
    "    \n",
    "    def _best_split(self, X, y, feat_idxs):\n",
    "        best_gain = -1\n",
    "        split_idx, split_thresh = None, None\n",
    "\n",
    "        # Travering all opts\n",
    "        for feat_idx in feat_idxs:\n",
    "            X_column = X[:, feat_idx]\n",
    "            thresholds = np.unique(X_column)\n",
    "\n",
    "            for thresh in thresholds:\n",
    "                # Calulcate IG\n",
    "                gain = self._information_gain(y, X_column, thresh)\n",
    "\n",
    "                if gain > best_gain:\n",
    "                    best_gain = gain\n",
    "                    split_idx = feat_idx\n",
    "                    split_thresh = thresh\n",
    "\n",
    "        return split_idx, split_thresh\n",
    "            \n",
    "    def predict(self, X_test):\n",
    "        return np.array([self._traverse_tree(x, self.root) for x in X_test])\n",
    "\n",
    "\n",
    "    # HELPER FUNCTIONS\n",
    "    def _information_gain(self, y, X_column, threshold):\n",
    "        # parent entropy\n",
    "        parent_ent = self._entropy(y)\n",
    "        \n",
    "        # create children\n",
    "        left_idxs , right_idxs = self._split(X_column, threshold)\n",
    "\n",
    "        if len(left_idxs) == 0  or len(left_idxs) == 0 :\n",
    "            return 0\n",
    "\n",
    "        # calculate weighter avg entropy of children\n",
    "        n = len(y)\n",
    "        n_l , n_r = len(left_idxs), len(right_idxs)\n",
    "        e_l , e_r = self._entropy(y[left_idxs]), self._entropy(y[right_idxs])\n",
    "        child_ent = (n_l/n) * e_l + (n_r/n) * e_r\n",
    "        \n",
    "        # calculate the IG\n",
    "        information_gain = parent_ent - child_ent\n",
    "        return information_gain\n",
    "\n",
    "\n",
    "    def _split(self, X_column, split_thresh):\n",
    "        left_idxs = np.argwhere(X_column <= split_thresh).flatten()\n",
    "        right_idxs = np.argwhere(X_column > split_thresh).flatten()\n",
    "        return left_idxs, right_idxs\n",
    "\n",
    "    \n",
    "    def _entropy(self, y):\n",
    "        hist = np.bincount(y)\n",
    "        proba = hist / len(y)\n",
    "        return -np.sum([p*np.log(p) for p in proba if p>0])\n",
    "            \n",
    "        \n",
    "    def _most_common_label(self, y):\n",
    "        counter = Counter(y)\n",
    "        value = counter.most_common(1)[0][0]\n",
    "        return value\n",
    "\n",
    "    \n",
    "    def _traverse_tree(self, X, node):\n",
    "        if node.is_leaf_node():\n",
    "            return node.value\n",
    "\n",
    "        if X[node.feature] <= node.threshold:\n",
    "            return self._traverse_tree(X, node.left)\n",
    "        return self._traverse_tree(X, node.right)"
   ]
  },
  {
   "cell_type": "markdown",
   "id": "faa884f2-49dd-4374-8e46-06cc244601b6",
   "metadata": {},
   "source": [
    "## Setting up Random Forest"
   ]
  },
  {
   "cell_type": "code",
   "execution_count": 29,
   "id": "57fc1ead-7599-461e-a219-bfe2dd7792ee",
   "metadata": {},
   "outputs": [],
   "source": [
    "class RandomForest:\n",
    "\n",
    "    # Setting up constructor\n",
    "    def __init__(self, n_trees = 10, max_depth =2, min_samples_split=2, n_features=None ):\n",
    "        self.n_trees = n_trees\n",
    "        self.max_depth = max_depth\n",
    "        self.min_samples_split = min_samples_split\n",
    "        self.n_features = n_features\n",
    "        self.trees = []\n",
    "\n",
    "    def fit(self, X, y):\n",
    "        self.trees = []\n",
    "        for _ in range(self.n_trees):\n",
    "            tree = DecisionTree(max_depth=self.max_depth, \n",
    "                         min_sample_split=self.min_samples_split,\n",
    "                        n_features=self.n_features)\n",
    "\n",
    "            # Collecting Samples\n",
    "            X_sample, y_sample = self._bootstrap_samples(X,y)\n",
    "            tree.fit(X_sample, y_sample)\n",
    "            self.trees.append(tree)\n",
    "            \n",
    "\n",
    "    def _bootstrap_samples(self,X,y):\n",
    "        # Selecting Samples randomly\n",
    "        n_samples = X.shape[0]\n",
    "        idxs = np.random.choice(n_samples, n_samples, replace=True)\n",
    "        return X[idxs], y[idxs]\n",
    "\n",
    "    def _most_common_label(self, y):\n",
    "        counter = Counter(y)\n",
    "        value = counter.most_common(1)[0][0]\n",
    "        return value\n",
    "    \n",
    "    def predict(self, X_test):\n",
    "        preds = np.array([tree.predict(X_test) for tree in self.trees])\n",
    "        tree_preds = np.swapaxes(preds, 0,1)\n",
    "        preds = np.array([self._most_common_label(pred) for pred in tree_preds]) \n",
    "        return preds"
   ]
  },
  {
   "cell_type": "markdown",
   "id": "da38a9fd-da8d-494b-a41c-031a9e81c9d3",
   "metadata": {},
   "source": [
    "## Setting Up Accuracy Model"
   ]
  },
  {
   "cell_type": "code",
   "execution_count": 10,
   "id": "c06e6399-7a3e-47fe-add7-c2c0ffba30c7",
   "metadata": {},
   "outputs": [],
   "source": [
    "def accuracy (preds, y_test):\n",
    "    return np.sum(preds == y_test) / len(y_test)"
   ]
  },
  {
   "cell_type": "markdown",
   "id": "23dd8248-0046-4ea3-b5c8-930639324ad2",
   "metadata": {},
   "source": [
    "## Setting up Dataset : Breast Cancer"
   ]
  },
  {
   "cell_type": "code",
   "execution_count": 11,
   "id": "b32ec0ff-4776-4c44-b456-d48ae4da1ed1",
   "metadata": {},
   "outputs": [],
   "source": [
    "from sklearn import datasets\n",
    "from sklearn.model_selection import train_test_split"
   ]
  },
  {
   "cell_type": "code",
   "execution_count": 12,
   "id": "6017a456-8016-4180-925b-22d09f1295df",
   "metadata": {},
   "outputs": [],
   "source": [
    "data = datasets.load_breast_cancer()\n",
    "X,y = data.data, data.target\n",
    "X_train, X_test, y_train, y_test = train_test_split(X, y, test_size=0.33, random_state=1234)"
   ]
  },
  {
   "cell_type": "markdown",
   "id": "b8fa1494-5a8f-41ac-8973-ffc5084dcd4b",
   "metadata": {},
   "source": [
    "## Setting up Deicsion Tree Model"
   ]
  },
  {
   "cell_type": "code",
   "execution_count": 32,
   "id": "83b5096d-0ed6-4fa5-80fb-13325167718a",
   "metadata": {},
   "outputs": [
    {
     "name": "stdout",
     "output_type": "stream",
     "text": [
      "Accuracy Score : 0.9361702127659575\n"
     ]
    }
   ],
   "source": [
    "RF = RandomForest()\n",
    "RF.fit(X_train, y_train)\n",
    "preds = RF.predict(X_test) \n",
    "print(f\"Accuracy Score : {accuracy(preds, y_test)}\")"
   ]
  },
  {
   "cell_type": "code",
   "execution_count": 31,
   "id": "2c12c335-42ef-4756-890f-94fcc98ed9b2",
   "metadata": {},
   "outputs": [
    {
     "name": "stdout",
     "output_type": "stream",
     "text": [
      "Accuracy Score : 0.9361702127659575\n"
     ]
    }
   ],
   "source": [
    "RF = RandomForest(n_trees=100, max_depth=5)\n",
    "RF.fit(X_train, y_train)\n",
    "preds = RF.predict(X_test)\n",
    "print(f\"Accuracy Score : {accuracy(preds, y_test)}\")"
   ]
  },
  {
   "cell_type": "code",
   "execution_count": null,
   "id": "b06a6878-0ff7-43d5-a111-5b29dcdb2680",
   "metadata": {},
   "outputs": [],
   "source": []
  }
 ],
 "metadata": {
  "kernelspec": {
   "display_name": "Python 3 (ipykernel)",
   "language": "python",
   "name": "python3"
  },
  "language_info": {
   "codemirror_mode": {
    "name": "ipython",
    "version": 3
   },
   "file_extension": ".py",
   "mimetype": "text/x-python",
   "name": "python",
   "nbconvert_exporter": "python",
   "pygments_lexer": "ipython3",
   "version": "3.11.7"
  }
 },
 "nbformat": 4,
 "nbformat_minor": 5
}
