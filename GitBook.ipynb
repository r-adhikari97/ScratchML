{
 "cells": [
  {
   "cell_type": "code",
   "execution_count": 2,
   "id": "d8e63f21-b6ea-49f5-8903-d9c405d9822a",
   "metadata": {},
   "outputs": [
    {
     "name": "stdout",
     "output_type": "stream",
     "text": [
      "Initialized empty Git repository in C:/Users/aviat/Scratch_ML/.git/\n"
     ]
    }
   ],
   "source": [
    "#!git init"
   ]
  },
  {
   "cell_type": "code",
   "execution_count": 3,
   "id": "a95d5438-ffbb-4b16-aa00-fdfedeeb9daf",
   "metadata": {},
   "outputs": [],
   "source": [
    "# Adding source\n",
    "!git remote add origin https://github.com/r-adhikari97/ScratchML.git"
   ]
  },
  {
   "cell_type": "code",
   "execution_count": 4,
   "id": "3d32538f-dc6d-46be-9e98-9a67c6e60d58",
   "metadata": {},
   "outputs": [],
   "source": [
    "# Setting up Branch\n",
    "!git branch -M main"
   ]
  },
  {
   "cell_type": "code",
   "execution_count": 8,
   "id": "f52ec23b-aa36-4ea2-891a-53e9d9294a96",
   "metadata": {},
   "outputs": [
    {
     "name": "stderr",
     "output_type": "stream",
     "text": [
      "warning: in the working copy of '.ipynb_checkpoints/README-checkpoint.md', LF will be replaced by CRLF the next time Git touches it\n",
      "warning: in the working copy of 'README.md', LF will be replaced by CRLF the next time Git touches it\n"
     ]
    }
   ],
   "source": [
    "# Setting up commit\n",
    "!git add ."
   ]
  },
  {
   "cell_type": "code",
   "execution_count": null,
   "id": "f06551bf-01b2-4b4f-ba60-35917a43c18b",
   "metadata": {},
   "outputs": [],
   "source": [
    "git commit -am ::"
   ]
  },
  {
   "cell_type": "code",
   "execution_count": 5,
   "id": "e853926c-8787-4ab2-8762-1f1371e07cd6",
   "metadata": {},
   "outputs": [
    {
     "name": "stderr",
     "output_type": "stream",
     "text": [
      "error: src refspec main does not match any\n",
      "error: failed to push some refs to 'https://github.com/r-adhikari97/ScratchML.git'\n"
     ]
    }
   ],
   "source": [
    "# Pushing to origin\n",
    "!git push -u origin main"
   ]
  },
  {
   "cell_type": "code",
   "execution_count": null,
   "id": "fddc6f5c-9e47-4b3c-9334-af146a07b666",
   "metadata": {},
   "outputs": [],
   "source": []
  }
 ],
 "metadata": {
  "kernelspec": {
   "display_name": "Python 3 (ipykernel)",
   "language": "python",
   "name": "python3"
  },
  "language_info": {
   "codemirror_mode": {
    "name": "ipython",
    "version": 3
   },
   "file_extension": ".py",
   "mimetype": "text/x-python",
   "name": "python",
   "nbconvert_exporter": "python",
   "pygments_lexer": "ipython3",
   "version": "3.11.7"
  }
 },
 "nbformat": 4,
 "nbformat_minor": 5
}
