{
 "cells": [
  {
   "cell_type": "markdown",
   "id": "26c11b95-f97e-4906-83ec-448bf51b20a2",
   "metadata": {},
   "source": [
    "# Naive Bayes \n",
    "- Probablistic Classifier \n",
    "- Applies Bayes Theorem\n",
    "- Naive Assumption : Features are mututally Independent\n",
    "- Selects Class with highest Probablity\n",
    "- P(y) : Prior Probablity --> Frequency of each class\n",
    "- P(xi | y) : Class Condtional Probablity --> Model with gaussian\n",
    "### Theorem\n",
    "    - **Main Formula:** P (A|B) = P(B|A) * P(A) / P(B)\n",
    "    - **For our case:**  P (y|X) = P(X|y) * P(y) / P(X) : X: Feature Vector\n",
    "### Training\n",
    "    - Calculate Mean, var prior (frequency) for each class\n",
    "### Testing\n",
    "    - Calulate posteroe for each class using\n",
    "    - y = argmax(y) log(P(x1 |y)) +.... log(P(xn |y)) + log(P(y)) and Gaussian formula\n",
    "    - Choose class with highest posterior probablity"
   ]
  },
  {
   "cell_type": "code",
   "execution_count": 1,
   "id": "522642e8-965a-429a-bd7e-6f9dd862bb7f",
   "metadata": {},
   "outputs": [],
   "source": [
    "# importing math library\n",
    "import numpy as np"
   ]
  },
  {
   "cell_type": "code",
   "execution_count": 19,
   "id": "29689413-8ede-4c2d-98fd-1b71dcd7f6a3",
   "metadata": {},
   "outputs": [],
   "source": [
    "# Naive Bayes Class\n",
    "\n",
    "class NaiveBayes:\n",
    "\n",
    "    def fit(self, X, y):\n",
    "        n_samples, n_features = X.shape\n",
    "        self._classess = np.unique(y)\n",
    "        n_classess = len(self._classess)\n",
    "\n",
    "        # Calculating Mean , variance and prior for every class\n",
    "        self._mean = np.zeros((n_classess, n_features), dtype=np.float64)\n",
    "        self._var = np.zeros((n_classess, n_features), dtype=np.float64)\n",
    "        self._prior = np.zeros(n_classess, dtype=np.float64)\n",
    "\n",
    "        # \n",
    "        for idx, c in enumerate(self._classess):\n",
    "            X_c = X[y == c]\n",
    "            self._mean[idx, :] = X_c.mean(axis=0)\n",
    "            self._var[idx, :] = X_c.var(axis=0)\n",
    "            self._prior[idx] = X_c.shape[0] / float(n_samples)\n",
    "\n",
    "\n",
    "    def predict(self, X_test):\n",
    "        y_pred = [self._predict(x) for x in X_test]\n",
    "        return np.array(y_pred)\n",
    "\n",
    "    def _predict(self, x):\n",
    "        posteriors = []\n",
    "\n",
    "        # Calc posterior probab for each class\n",
    "        for idx, c in enumerate(self._classess):\n",
    "            prior = np.log(self._prior[idx])\n",
    "            posterior = np.sum(np.log(self._pdf(idx, x)))\n",
    "            posterior = posterior + prior\n",
    "            posteriors.append(posterior)\n",
    "\n",
    "        # return highest posteriro\n",
    "        return self._classess[np.argmax(posteriors)]\n",
    "\n",
    "    def _pdf(self, class_idx, x):\n",
    "        mean = self._mean[class_idx]\n",
    "        var = self._var[class_idx]\n",
    "        numerator = np.exp(-(x-mean)**2 /(2 * var))\n",
    "        denominator = np.sqrt(2*np.pi*var)\n",
    "        return numerator / denominator"
   ]
  },
  {
   "cell_type": "markdown",
   "id": "7794d737-cbbc-4433-a95b-882c55410e1b",
   "metadata": {},
   "source": [
    "## Setting Up Accuracy Model"
   ]
  },
  {
   "cell_type": "code",
   "execution_count": 4,
   "id": "c6770888-519e-4787-b819-6b9a479e8e7e",
   "metadata": {},
   "outputs": [],
   "source": [
    "def accuracy (preds, y_test):\n",
    "    return np.sum(preds == y_test) / len(y_test)"
   ]
  },
  {
   "cell_type": "markdown",
   "id": "e571476f-4ed9-4f97-b1fc-376085c6d11f",
   "metadata": {},
   "source": [
    "## Settin up Dataset"
   ]
  },
  {
   "cell_type": "code",
   "execution_count": 5,
   "id": "e0447746-30ae-497c-bfdb-1cafb89881c1",
   "metadata": {},
   "outputs": [],
   "source": [
    "from sklearn import datasets\n",
    "from sklearn.model_selection import train_test_split"
   ]
  },
  {
   "cell_type": "code",
   "execution_count": 6,
   "id": "7ad8c11e-b8ac-46dd-b208-09e25f4365b3",
   "metadata": {},
   "outputs": [],
   "source": [
    "data = datasets.load_breast_cancer()\n",
    "X,y = data.data, data.target\n",
    "X_train, X_test, y_train, y_test = train_test_split(X, y, test_size=0.33, random_state=1234)"
   ]
  },
  {
   "cell_type": "markdown",
   "id": "9866f565-9ed9-4f5c-98f9-ff92a13a6d67",
   "metadata": {},
   "source": [
    "## Setting Up Model"
   ]
  },
  {
   "cell_type": "code",
   "execution_count": 20,
   "id": "00d972dd-1e18-4104-aa87-7f9b98f01a4a",
   "metadata": {},
   "outputs": [
    {
     "name": "stdout",
     "output_type": "stream",
     "text": [
      "Accuracy Score : 0.8936170212765957\n"
     ]
    },
    {
     "name": "stderr",
     "output_type": "stream",
     "text": [
      "C:\\Users\\aviat\\AppData\\Local\\Temp\\ipykernel_13116\\1226163592.py:33: RuntimeWarning: divide by zero encountered in log\n",
      "  posterior = np.sum(np.log(self._pdf(idx, x)))\n"
     ]
    }
   ],
   "source": [
    "NB = NaiveBayes()\n",
    "NB.fit(X_train, y_train)\n",
    "preds = NB.predict(X_test)\n",
    "print(f\"Accuracy Score : {accuracy(preds, y_test)}\")"
   ]
  },
  {
   "cell_type": "markdown",
   "id": "8cc2f071-1681-4012-b796-327c6dd2c2c2",
   "metadata": {},
   "source": [
    "## Comparing To Sklearn Naive bayes"
   ]
  },
  {
   "cell_type": "code",
   "execution_count": 23,
   "id": "e416ea66-e563-432c-8b44-77276b36d554",
   "metadata": {},
   "outputs": [],
   "source": [
    "from sklearn.naive_bayes import GaussianNB"
   ]
  },
  {
   "cell_type": "code",
   "execution_count": 24,
   "id": "fe3864a8-d571-426a-a594-8d28a81eaeb8",
   "metadata": {},
   "outputs": [
    {
     "name": "stdout",
     "output_type": "stream",
     "text": [
      "Accuracy Score : 0.898936170212766\n"
     ]
    }
   ],
   "source": [
    "MNB = GaussianNB()\n",
    "MNB.fit(X_train, y_train)\n",
    "preds = MNB.predict(X_test)\n",
    "print(f\"Accuracy Score : {accuracy(preds, y_test)}\")"
   ]
  },
  {
   "cell_type": "code",
   "execution_count": null,
   "id": "1bdb7a3b-0f57-4e66-8c6e-b4482898b1bc",
   "metadata": {},
   "outputs": [],
   "source": []
  }
 ],
 "metadata": {
  "kernelspec": {
   "display_name": "Python 3 (ipykernel)",
   "language": "python",
   "name": "python3"
  },
  "language_info": {
   "codemirror_mode": {
    "name": "ipython",
    "version": 3
   },
   "file_extension": ".py",
   "mimetype": "text/x-python",
   "name": "python",
   "nbconvert_exporter": "python",
   "pygments_lexer": "ipython3",
   "version": "3.11.7"
  }
 },
 "nbformat": 4,
 "nbformat_minor": 5
}
